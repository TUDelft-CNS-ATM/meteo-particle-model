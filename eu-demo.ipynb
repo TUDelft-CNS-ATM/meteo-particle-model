{
 "cells": [
  {
   "cell_type": "code",
   "execution_count": null,
   "metadata": {},
   "outputs": [],
   "source": [
    "import numpy as np\n",
    "import pandas as pd\n",
    "import matplotlib.pyplot as plt\n",
    "import mp_vis\n",
    "from lib import aero\n",
    "from mp import MeteoParticleModel\n",
    "import warnings\n",
    "warnings.filterwarnings(\"ignore\")"
   ]
  },
  {
   "cell_type": "code",
   "execution_count": null,
   "metadata": {},
   "outputs": [],
   "source": [
    "# center of the map, appox\n",
    "mp = MeteoParticleModel(lat0=48, lon0=15, tstep=10)\n",
    "\n",
    "# Change default MP model parameters\n",
    "mp.AREA_XY = (-2000, 2000)\n",
    "mp.GRID_BOND_XY = 100\n",
    "mp.N_AC_PTCS = 200\n",
    "mp.AGING_SIGMA = 300\n",
    "mp.PTC_WALK_XY_SIGMA = 20\n",
    "mp.ACCEPT_PROB_FACTOR = 1\n"
   ]
  },
  {
   "cell_type": "code",
   "execution_count": null,
   "metadata": {},
   "outputs": [],
   "source": [
    "# read wind raw measurements\n",
    "wind = pd.read_csv('data/wind_eu_demo_20min.csv.gz')\n",
    "print(wind['latitude'].min(), wind['latitude'].max())\n",
    "print(wind['longitude'].min(), wind['longitude'].max())\n",
    "\n",
    "wind['latitude'] = wind['latitude'].round(2)\n",
    "wind['longitude'] = wind['longitude'].round(2)\n",
    "wind['altitude'] = wind['altitude'].round(-2).astype(int)\n",
    "wind = wind.groupby(['timestamp', 'latitude', 'longitude', 'altitude']).median().reset_index()\n",
    "wind = wind.dropna()\n",
    "\n",
    "ts0 = int(wind.timestamp.min())\n",
    "ts1 = int(wind.timestamp.max())"
   ]
  },
  {
   "cell_type": "code",
   "execution_count": null,
   "metadata": {},
   "outputs": [],
   "source": [
    "# rum Meteo-Particle model for 10 minutes (a bit slow, go enjoy a cup of coffee)\n",
    "\n",
    "for t in sorted(wind.timestamp.unique()):\n",
    "    d = wind[wind.timestamp==t]\n",
    "    obs = {\n",
    "        'lat': d.latitude.values,\n",
    "        'lon': d.longitude.values,\n",
    "        'alt': d.altitude.values,\n",
    "        'wx': d.wind_u.values,\n",
    "        'wy': d.wind_v.values,\n",
    "        'temp': [0] * d.shape[0]\n",
    "    }\n",
    "\n",
    "    mp.sample(obs, acceptprob=True)\n",
    "\n",
    "    print(\"time: %d | n_ptc: %d\"  % (t, len(mp.PTC_X)))\n",
    "\n",
    "    if t - ts0 >= 600:  # 10 minute\n",
    "        break\n"
   ]
  },
  {
   "cell_type": "code",
   "execution_count": null,
   "metadata": {},
   "outputs": [],
   "source": [
    "# construct example grid\n",
    "lat = np.arange(32, 64, 0.5)\n",
    "lon = np.arange(-24, 54, 1)\n",
    "\n",
    "lats, lons = np.meshgrid(lat, lon)\n",
    "lats = lats.flatten()\n",
    "lons = lons.flatten()\n",
    "alts = len(lats) * [30000]  # 30000ft\n",
    "\n",
    "data = mp.construct(coords=[lats, lons, alts], xyz=False, confidence=False)\n",
    "\n",
    "df = pd.DataFrame({\n",
    "    'u_wind': data[3],\n",
    "    'v_wind': data[4],\n",
    "    'lat_': lats,\n",
    "    'lon_': lons,\n",
    "}).set_index(['lat_', 'lon_'])\n",
    "\n",
    "dataxr = df.to_xarray()"
   ]
  },
  {
   "cell_type": "code",
   "execution_count": null,
   "metadata": {},
   "outputs": [],
   "source": [
    "# visualize\n",
    "\n",
    "from ipyleaflet import Map, Velocity, basemaps\n",
    "\n",
    "map_ = Map(\n",
    "    center=(52, 15),\n",
    "    zoom=4,\n",
    "    interpolation=\"linear\",\n",
    "    basemap=basemaps.CartoDB.DarkMatter,\n",
    ")\n",
    "\n",
    "wind = Velocity(\n",
    "    data=dataxr,\n",
    "    zonal_speed=\"u_wind\",\n",
    "    meridional_speed=\"v_wind\",\n",
    "    latitude_dimension=\"lat_\",\n",
    "    longitude_dimension=\"lon_\",\n",
    "    velocity_scale=0.002,\n",
    "    max_velocity=120,\n",
    ")\n",
    "\n",
    "map_.add_layer(wind)\n",
    "\n",
    "map_"
   ]
  }
 ],
 "metadata": {
  "kernelspec": {
   "display_name": "Python 3",
   "language": "python",
   "name": "python3"
  },
  "language_info": {
   "codemirror_mode": {
    "name": "ipython",
    "version": 3
   },
   "file_extension": ".py",
   "mimetype": "text/x-python",
   "name": "python",
   "nbconvert_exporter": "python",
   "pygments_lexer": "ipython3",
   "version": "3.6.8"
  }
 },
 "nbformat": 4,
 "nbformat_minor": 2
}
